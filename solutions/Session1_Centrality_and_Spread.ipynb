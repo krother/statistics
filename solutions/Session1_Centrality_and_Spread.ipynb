{
 "cells": [
  {
   "cell_type": "markdown",
   "id": "fbc21ae7-2e51-47f3-a248-c238e9d16e04",
   "metadata": {},
   "source": [
    "# Measures of Centrality and Spread"
   ]
  },
  {
   "cell_type": "code",
   "execution_count": 1,
   "id": "fb1a11ec-864b-4a15-aa40-66e8c58435ec",
   "metadata": {},
   "outputs": [],
   "source": [
    "import pandas as pd"
   ]
  },
  {
   "cell_type": "code",
   "execution_count": 2,
   "id": "c19aa65e-a97d-4409-ba74-1aae452daa70",
   "metadata": {},
   "outputs": [],
   "source": [
    "df = pd.read_excel(\"/home/kristian/Downloads/Student Data Portrait.xlsx\")"
   ]
  },
  {
   "cell_type": "code",
   "execution_count": 4,
   "id": "72dfaeb8-8529-4967-b936-85cbe8c41da8",
   "metadata": {},
   "outputs": [
    {
     "data": {
      "text/html": [
       "<div>\n",
       "<style scoped>\n",
       "    .dataframe tbody tr th:only-of-type {\n",
       "        vertical-align: middle;\n",
       "    }\n",
       "\n",
       "    .dataframe tbody tr th {\n",
       "        vertical-align: top;\n",
       "    }\n",
       "\n",
       "    .dataframe thead th {\n",
       "        text-align: right;\n",
       "    }\n",
       "</style>\n",
       "<table border=\"1\" class=\"dataframe\">\n",
       "  <thead>\n",
       "    <tr style=\"text-align: right;\">\n",
       "      <th></th>\n",
       "      <th>chars_in_name</th>\n",
       "      <th>members_in_household</th>\n",
       "      <th>national_symbol</th>\n",
       "      <th>mode_of_transport</th>\n",
       "      <th>charge</th>\n",
       "    </tr>\n",
       "  </thead>\n",
       "  <tbody>\n",
       "    <tr>\n",
       "      <th>0</th>\n",
       "      <td>8</td>\n",
       "      <td>4</td>\n",
       "      <td>swan</td>\n",
       "      <td>bike</td>\n",
       "      <td>61.0</td>\n",
       "    </tr>\n",
       "    <tr>\n",
       "      <th>1</th>\n",
       "      <td>5</td>\n",
       "      <td>5</td>\n",
       "      <td>moon_and_star</td>\n",
       "      <td>car</td>\n",
       "      <td>58.0</td>\n",
       "    </tr>\n",
       "    <tr>\n",
       "      <th>2</th>\n",
       "      <td>5</td>\n",
       "      <td>2</td>\n",
       "      <td>ankh</td>\n",
       "      <td>boat</td>\n",
       "      <td>81.0</td>\n",
       "    </tr>\n",
       "  </tbody>\n",
       "</table>\n",
       "</div>"
      ],
      "text/plain": [
       "   chars_in_name  members_in_household national_symbol mode_of_transport  \\\n",
       "0              8                     4            swan              bike   \n",
       "1              5                     5   moon_and_star               car   \n",
       "2              5                     2            ankh              boat   \n",
       "\n",
       "   charge  \n",
       "0    61.0  \n",
       "1    58.0  \n",
       "2    81.0  "
      ]
     },
     "execution_count": 4,
     "metadata": {},
     "output_type": "execute_result"
    }
   ],
   "source": [
    "df.head(3)"
   ]
  },
  {
   "cell_type": "code",
   "execution_count": 67,
   "id": "c25b6ae9-b420-4190-b90a-a56156d01f6a",
   "metadata": {},
   "outputs": [
    {
     "data": {
      "text/plain": [
       "(17, 5)"
      ]
     },
     "execution_count": 67,
     "metadata": {},
     "output_type": "execute_result"
    }
   ],
   "source": [
    "df.shape"
   ]
  },
  {
   "cell_type": "markdown",
   "id": "f969b766-ea2c-4639-97ff-c25335526021",
   "metadata": {},
   "source": [
    "### Analyze a categorical variable"
   ]
  },
  {
   "cell_type": "code",
   "execution_count": 7,
   "id": "2704d1ab-c2d6-416f-a6cc-e6fe4068ba68",
   "metadata": {},
   "outputs": [
    {
     "data": {
      "text/plain": [
       "mode_of_transport\n",
       "car      6\n",
       "bike     3\n",
       "boat     2\n",
       "plane    2\n",
       "walk     1\n",
       "train    1\n",
       "ferry    1\n",
       "Name: count, dtype: int64"
      ]
     },
     "execution_count": 7,
     "metadata": {},
     "output_type": "execute_result"
    }
   ],
   "source": [
    "df[\"mode_of_transport\"].value_counts()"
   ]
  },
  {
   "cell_type": "code",
   "execution_count": 12,
   "id": "9ef9797c-93c9-4b8a-90fd-ce158e5706d4",
   "metadata": {},
   "outputs": [
    {
     "data": {
      "text/plain": [
       "<Axes: xlabel='mode_of_transport'>"
      ]
     },
     "execution_count": 12,
     "metadata": {},
     "output_type": "execute_result"
    },
    {
     "data": {
      "image/png": "[encoded data removed]",
      "text/plain": [
       "<Figure size 500x300 with 1 Axes>"
      ]
     },
     "metadata": {},
     "output_type": "display_data"
    }
   ],
   "source": [
    "df[\"mode_of_transport\"].value_counts().plot.bar(figsize=(5,3))  # or .barh"
   ]
  },
  {
   "cell_type": "markdown",
   "id": "f946a802-2cec-46db-a683-9a811492b530",
   "metadata": {},
   "source": [
    "### Measures of Centrality for a scalar variable"
   ]
  },
  {
   "cell_type": "code",
   "execution_count": 16,
   "id": "bd61046f-5306-4e5a-a9fb-7ce7558a2c34",
   "metadata": {},
   "outputs": [
    {
     "data": {
      "text/plain": [
       "62.5625"
      ]
     },
     "execution_count": 16,
     "metadata": {},
     "output_type": "execute_result"
    }
   ],
   "source": [
    "float(df[\"charge\"].mean())"
   ]
  },
  {
   "cell_type": "code",
   "execution_count": 17,
   "id": "4f2caf96-0917-4daa-baff-c994f4617c79",
   "metadata": {},
   "outputs": [
    {
     "data": {
      "text/plain": [
       "63.0"
      ]
     },
     "execution_count": 17,
     "metadata": {},
     "output_type": "execute_result"
    }
   ],
   "source": [
    "float(df[\"charge\"].median())"
   ]
  },
  {
   "cell_type": "code",
   "execution_count": 18,
   "id": "6f751b48-2b31-431a-9871-a1a5b5ebc6c5",
   "metadata": {},
   "outputs": [
    {
     "data": {
      "text/plain": [
       "0    47.0\n",
       "1    58.0\n",
       "2    61.0\n",
       "Name: charge, dtype: float64"
      ]
     },
     "execution_count": 18,
     "metadata": {},
     "output_type": "execute_result"
    }
   ],
   "source": [
    "df[\"charge\"].mode()"
   ]
  },
  {
   "cell_type": "markdown",
   "id": "2b6c3de2-faa6-49d0-82e8-2f3722b92223",
   "metadata": {},
   "source": [
    "### Measures of Spread for a scalar variable"
   ]
  },
  {
   "cell_type": "code",
   "execution_count": 25,
   "id": "8f13fe00-e0f2-4ac7-9d8f-d2b5d284b87b",
   "metadata": {},
   "outputs": [
    {
     "data": {
      "text/plain": [
       "19.28"
      ]
     },
     "execution_count": 25,
     "metadata": {},
     "output_type": "execute_result"
    }
   ],
   "source": [
    "float(round(df[\"charge\"].std(), 2))"
   ]
  },
  {
   "cell_type": "code",
   "execution_count": 28,
   "id": "188fa50f-3b37-4cb9-8fb1-5454604d2fe6",
   "metadata": {},
   "outputs": [
    {
     "data": {
      "text/plain": [
       "(21.0, 86.0)"
      ]
     },
     "execution_count": 28,
     "metadata": {},
     "output_type": "execute_result"
    }
   ],
   "source": [
    "float(df[\"charge\"].min()), float(df[\"charge\"].max())"
   ]
  },
  {
   "cell_type": "code",
   "execution_count": 29,
   "id": "f565d9ae-1589-4ac2-96ca-d317205e73f0",
   "metadata": {},
   "outputs": [
    {
     "data": {
      "text/plain": [
       "np.float64(371.59583333333336)"
      ]
     },
     "execution_count": 29,
     "metadata": {},
     "output_type": "execute_result"
    }
   ],
   "source": [
    "df[\"charge\"].var()"
   ]
  },
  {
   "cell_type": "code",
   "execution_count": 33,
   "id": "a0ed3dd0-cf80-41ab-9fa6-bdf1f603aea1",
   "metadata": {},
   "outputs": [
    {
     "data": {
      "text/plain": [
       "0    (55.25, 63.0]\n",
       "1    (55.25, 63.0]\n",
       "2     (77.5, 86.0]\n",
       "Name: charge, dtype: category\n",
       "Categories (4, interval[float64, right]): [(20.999, 55.25] < (55.25, 63.0] < (63.0, 77.5] < (77.5, 86.0]]"
      ]
     },
     "execution_count": 33,
     "metadata": {},
     "output_type": "execute_result"
    }
   ],
   "source": [
    "# quantile - not very practical\n",
    "pd.qcut(x=df[\"charge\"], q=4).head(3)"
   ]
  },
  {
   "cell_type": "code",
   "execution_count": 34,
   "id": "407e9bd1-55b9-4646-af5f-c8d639dc3a32",
   "metadata": {},
   "outputs": [
    {
     "data": {
      "text/plain": [
       "count    16.000000\n",
       "mean     62.562500\n",
       "std      19.276821\n",
       "min      21.000000\n",
       "25%      55.250000\n",
       "50%      63.000000\n",
       "75%      77.500000\n",
       "max      86.000000\n",
       "Name: charge, dtype: float64"
      ]
     },
     "execution_count": 34,
     "metadata": {},
     "output_type": "execute_result"
    }
   ],
   "source": [
    "# shortcut\n",
    "df[\"charge\"].describe()"
   ]
  },
  {
   "cell_type": "code",
   "execution_count": 37,
   "id": "87af9780-5877-4f9a-b92e-1ed0b2b8a693",
   "metadata": {},
   "outputs": [
    {
     "data": {
      "text/plain": [
       "<Axes: >"
      ]
     },
     "execution_count": 37,
     "metadata": {},
     "output_type": "execute_result"
    },
    {
     "data": {
      "image/png": "[encoded data removed]",
      "text/plain": [
       "<Figure size 500x300 with 1 Axes>"
      ]
     },
     "metadata": {},
     "output_type": "display_data"
    }
   ],
   "source": [
    "df[\"charge\"].sort_values().plot.bar(figsize=(5, 3))"
   ]
  },
  {
   "cell_type": "code",
   "execution_count": 39,
   "id": "b19bad2f-f2ce-4008-a75f-e68ae38048ad",
   "metadata": {},
   "outputs": [
    {
     "data": {
      "text/plain": [
       "<Axes: >"
      ]
     },
     "execution_count": 39,
     "metadata": {},
     "output_type": "execute_result"
    },
    {
     "data": {
      "image/png": "[encoded data removed]",
      "text/plain": [
       "<Figure size 500x300 with 1 Axes>"
      ]
     },
     "metadata": {},
     "output_type": "display_data"
    }
   ],
   "source": [
    "df[\"charge\"].plot.box(figsize=(5,3))"
   ]
  },
  {
   "cell_type": "code",
   "execution_count": 41,
   "id": "9784ef72-3792-47ae-9674-d467cf903117",
   "metadata": {},
   "outputs": [
    {
     "data": {
      "text/plain": [
       "<Axes: >"
      ]
     },
     "execution_count": 41,
     "metadata": {},
     "output_type": "execute_result"
    },
    {
     "data": {
      "image/png": "[encoded data removed]",
      "text/plain": [
       "<Figure size 500x300 with 1 Axes>"
      ]
     },
     "metadata": {},
     "output_type": "display_data"
    }
   ],
   "source": [
    "df[\"charge\"].hist(bins=10, figsize=(5,3))"
   ]
  },
  {
   "cell_type": "code",
   "execution_count": null,
   "id": "be236547-f728-4590-acb6-511b03e37add",
   "metadata": {},
   "outputs": [],
   "source": []
  },
  {
   "cell_type": "markdown",
   "id": "6515b12b-067b-4207-aee3-9585d85a4fd7",
   "metadata": {},
   "source": [
    "### Bivariate Statistics"
   ]
  },
  {
   "cell_type": "code",
   "execution_count": 52,
   "id": "9bb4a2e8-a104-453b-a1b9-b1b8fa2fe3fa",
   "metadata": {},
   "outputs": [
    {
     "data": {
      "text/plain": [
       "<Axes: xlabel='mode_of_transport'>"
      ]
     },
     "execution_count": 52,
     "metadata": {},
     "output_type": "execute_result"
    },
    {
     "data": {
      "image/png": "[encoded data removed]",
      "text/plain": [
       "<Figure size 500x300 with 1 Axes>"
      ]
     },
     "metadata": {},
     "output_type": "display_data"
    }
   ],
   "source": [
    "# one mean separately for each unique mode of transport\n",
    "df.groupby(\"mode_of_transport\")[\"charge\"].mean().sort_values(ascending=False).plot.bar(figsize=(5,3))"
   ]
  },
  {
   "cell_type": "code",
   "execution_count": 53,
   "id": "3c0dad69-1ccc-45e1-88f8-b74656f22017",
   "metadata": {},
   "outputs": [],
   "source": [
    "# Q: how to draw a dot on top instead of the bars?"
   ]
  },
  {
   "cell_type": "markdown",
   "id": "3c798cbd-6ecd-4f10-957a-99457642bcab",
   "metadata": {},
   "source": [
    "### Pivot Table\n",
    "we examine 2 categorical and 1 numerical variable"
   ]
  },
  {
   "cell_type": "code",
   "execution_count": 55,
   "id": "2d9f4999-3ba8-400c-a827-78688c641d65",
   "metadata": {},
   "outputs": [
    {
     "data": {
      "text/html": [
       "<div>\n",
       "<style scoped>\n",
       "    .dataframe tbody tr th:only-of-type {\n",
       "        vertical-align: middle;\n",
       "    }\n",
       "\n",
       "    .dataframe tbody tr th {\n",
       "        vertical-align: top;\n",
       "    }\n",
       "\n",
       "    .dataframe thead th {\n",
       "        text-align: right;\n",
       "    }\n",
       "</style>\n",
       "<table border=\"1\" class=\"dataframe\">\n",
       "  <thead>\n",
       "    <tr style=\"text-align: right;\">\n",
       "      <th>members_in_household</th>\n",
       "      <th>2</th>\n",
       "      <th>4</th>\n",
       "      <th>5</th>\n",
       "      <th>6</th>\n",
       "    </tr>\n",
       "    <tr>\n",
       "      <th>mode_of_transport</th>\n",
       "      <th></th>\n",
       "      <th></th>\n",
       "      <th></th>\n",
       "      <th></th>\n",
       "    </tr>\n",
       "  </thead>\n",
       "  <tbody>\n",
       "    <tr>\n",
       "      <th>bike</th>\n",
       "      <td>NaN</td>\n",
       "      <td>61.0</td>\n",
       "      <td>62.0</td>\n",
       "      <td>NaN</td>\n",
       "    </tr>\n",
       "    <tr>\n",
       "      <th>boat</th>\n",
       "      <td>81.0</td>\n",
       "      <td>47.0</td>\n",
       "      <td>NaN</td>\n",
       "      <td>NaN</td>\n",
       "    </tr>\n",
       "    <tr>\n",
       "      <th>car</th>\n",
       "      <td>NaN</td>\n",
       "      <td>51.5</td>\n",
       "      <td>58.0</td>\n",
       "      <td>66.5</td>\n",
       "    </tr>\n",
       "    <tr>\n",
       "      <th>ferry</th>\n",
       "      <td>85.0</td>\n",
       "      <td>NaN</td>\n",
       "      <td>NaN</td>\n",
       "      <td>NaN</td>\n",
       "    </tr>\n",
       "    <tr>\n",
       "      <th>plane</th>\n",
       "      <td>NaN</td>\n",
       "      <td>65.0</td>\n",
       "      <td>21.0</td>\n",
       "      <td>NaN</td>\n",
       "    </tr>\n",
       "    <tr>\n",
       "      <th>train</th>\n",
       "      <td>NaN</td>\n",
       "      <td>79.0</td>\n",
       "      <td>NaN</td>\n",
       "      <td>NaN</td>\n",
       "    </tr>\n",
       "    <tr>\n",
       "      <th>walk</th>\n",
       "      <td>NaN</td>\n",
       "      <td>86.0</td>\n",
       "      <td>NaN</td>\n",
       "      <td>NaN</td>\n",
       "    </tr>\n",
       "  </tbody>\n",
       "</table>\n",
       "</div>"
      ],
      "text/plain": [
       "members_in_household     2     4     5     6\n",
       "mode_of_transport                           \n",
       "bike                   NaN  61.0  62.0   NaN\n",
       "boat                  81.0  47.0   NaN   NaN\n",
       "car                    NaN  51.5  58.0  66.5\n",
       "ferry                 85.0   NaN   NaN   NaN\n",
       "plane                  NaN  65.0  21.0   NaN\n",
       "train                  NaN  79.0   NaN   NaN\n",
       "walk                   NaN  86.0   NaN   NaN"
      ]
     },
     "execution_count": 55,
     "metadata": {},
     "output_type": "execute_result"
    }
   ],
   "source": [
    "pivot = df.groupby([\"mode_of_transport\", \"members_in_household\"])[\"charge\"].mean().unstack()\n",
    "pivot"
   ]
  },
  {
   "cell_type": "code",
   "execution_count": 58,
   "id": "816e1ccf-265d-4c8b-8e14-7eeff74ba6f9",
   "metadata": {},
   "outputs": [
    {
     "data": {
      "text/html": [
       "<div>\n",
       "<style scoped>\n",
       "    .dataframe tbody tr th:only-of-type {\n",
       "        vertical-align: middle;\n",
       "    }\n",
       "\n",
       "    .dataframe tbody tr th {\n",
       "        vertical-align: top;\n",
       "    }\n",
       "\n",
       "    .dataframe thead th {\n",
       "        text-align: right;\n",
       "    }\n",
       "</style>\n",
       "<table border=\"1\" class=\"dataframe\">\n",
       "  <thead>\n",
       "    <tr style=\"text-align: right;\">\n",
       "      <th>members_in_household</th>\n",
       "      <th>2</th>\n",
       "      <th>4</th>\n",
       "      <th>5</th>\n",
       "      <th>6</th>\n",
       "    </tr>\n",
       "    <tr>\n",
       "      <th>mode_of_transport</th>\n",
       "      <th></th>\n",
       "      <th></th>\n",
       "      <th></th>\n",
       "      <th></th>\n",
       "    </tr>\n",
       "  </thead>\n",
       "  <tbody>\n",
       "    <tr>\n",
       "      <th>bike</th>\n",
       "      <td>0.0</td>\n",
       "      <td>1.0</td>\n",
       "      <td>2.0</td>\n",
       "      <td>0.0</td>\n",
       "    </tr>\n",
       "    <tr>\n",
       "      <th>boat</th>\n",
       "      <td>1.0</td>\n",
       "      <td>1.0</td>\n",
       "      <td>0.0</td>\n",
       "      <td>0.0</td>\n",
       "    </tr>\n",
       "    <tr>\n",
       "      <th>car</th>\n",
       "      <td>0.0</td>\n",
       "      <td>2.0</td>\n",
       "      <td>2.0</td>\n",
       "      <td>2.0</td>\n",
       "    </tr>\n",
       "    <tr>\n",
       "      <th>ferry</th>\n",
       "      <td>1.0</td>\n",
       "      <td>0.0</td>\n",
       "      <td>0.0</td>\n",
       "      <td>0.0</td>\n",
       "    </tr>\n",
       "    <tr>\n",
       "      <th>plane</th>\n",
       "      <td>0.0</td>\n",
       "      <td>1.0</td>\n",
       "      <td>1.0</td>\n",
       "      <td>0.0</td>\n",
       "    </tr>\n",
       "    <tr>\n",
       "      <th>train</th>\n",
       "      <td>0.0</td>\n",
       "      <td>1.0</td>\n",
       "      <td>0.0</td>\n",
       "      <td>0.0</td>\n",
       "    </tr>\n",
       "    <tr>\n",
       "      <th>walk</th>\n",
       "      <td>0.0</td>\n",
       "      <td>1.0</td>\n",
       "      <td>0.0</td>\n",
       "      <td>0.0</td>\n",
       "    </tr>\n",
       "  </tbody>\n",
       "</table>\n",
       "</div>"
      ],
      "text/plain": [
       "members_in_household    2    4    5    6\n",
       "mode_of_transport                       \n",
       "bike                  0.0  1.0  2.0  0.0\n",
       "boat                  1.0  1.0  0.0  0.0\n",
       "car                   0.0  2.0  2.0  2.0\n",
       "ferry                 1.0  0.0  0.0  0.0\n",
       "plane                 0.0  1.0  1.0  0.0\n",
       "train                 0.0  1.0  0.0  0.0\n",
       "walk                  0.0  1.0  0.0  0.0"
      ]
     },
     "execution_count": 58,
     "metadata": {},
     "output_type": "execute_result"
    }
   ],
   "source": [
    "pivot = df.groupby([\"mode_of_transport\", \"members_in_household\"])[\"charge\"].count().unstack()\n",
    "pivot = pivot.fillna(0.0)\n",
    "pivot"
   ]
  },
  {
   "cell_type": "code",
   "execution_count": 65,
   "id": "d64954a7-344e-46c4-91f1-0d14e7052e38",
   "metadata": {},
   "outputs": [
    {
     "data": {
      "text/plain": [
       "<Axes: xlabel='members_in_household'>"
      ]
     },
     "execution_count": 65,
     "metadata": {},
     "output_type": "execute_result"
    },
    {
     "data": {
      "image/png": "[encoded data removed]",
      "text/plain": [
       "<Figure size 500x300 with 1 Axes>"
      ]
     },
     "metadata": {},
     "output_type": "display_data"
    }
   ],
   "source": [
    "pivot.T.plot.bar(figsize=(5, 3))"
   ]
  },
  {
   "cell_type": "code",
   "execution_count": 66,
   "id": "19f67404-b4dc-4606-ba51-52fa95628c60",
   "metadata": {},
   "outputs": [
    {
     "data": {
      "text/plain": [
       "<Axes: xlabel='members_in_household', ylabel='mode_of_transport'>"
      ]
     },
     "execution_count": 66,
     "metadata": {},
     "output_type": "execute_result"
    },
    {
     "data": {
      "image/png": "[encoded data removed]",
      "text/plain": [
       "<Figure size 640x480 with 2 Axes>"
      ]
     },
     "metadata": {},
     "output_type": "display_data"
    }
   ],
   "source": [
    "sns.heatmap(pivot)"
   ]
  },
  {
   "cell_type": "code",
   "execution_count": 61,
   "id": "1fea1fe1-177f-438b-9635-28d86957a3f9",
   "metadata": {},
   "outputs": [
    {
     "data": {
      "text/plain": [
       "<Axes: xlabel='members_in_household', ylabel='charge'>"
      ]
     },
     "execution_count": 61,
     "metadata": {},
     "output_type": "execute_result"
    },
    {
     "data": {
      "image/png": "[encoded data removed]",
      "text/plain": [
       "<Figure size 640x480 with 1 Axes>"
      ]
     },
     "metadata": {},
     "output_type": "display_data"
    }
   ],
   "source": [
    "import seaborn as sns\n",
    "\n",
    "sns.scatterplot(data=df, x=\"members_in_household\", y=\"charge\",\n",
    "                hue=\"mode_of_transport\")"
   ]
  },
  {
   "cell_type": "code",
   "execution_count": 69,
   "id": "8b7dd8d6-24a8-4fa6-bcab-5572519995e5",
   "metadata": {},
   "outputs": [
    {
     "data": {
      "text/html": [
       "<div>\n",
       "<style scoped>\n",
       "    .dataframe tbody tr th:only-of-type {\n",
       "        vertical-align: middle;\n",
       "    }\n",
       "\n",
       "    .dataframe tbody tr th {\n",
       "        vertical-align: top;\n",
       "    }\n",
       "\n",
       "    .dataframe thead th {\n",
       "        text-align: right;\n",
       "    }\n",
       "</style>\n",
       "<table border=\"1\" class=\"dataframe\">\n",
       "  <thead>\n",
       "    <tr style=\"text-align: right;\">\n",
       "      <th>members_in_household</th>\n",
       "      <th>2</th>\n",
       "      <th>4</th>\n",
       "      <th>5</th>\n",
       "      <th>6</th>\n",
       "    </tr>\n",
       "    <tr>\n",
       "      <th>mode_of_transport</th>\n",
       "      <th></th>\n",
       "      <th></th>\n",
       "      <th></th>\n",
       "      <th></th>\n",
       "    </tr>\n",
       "  </thead>\n",
       "  <tbody>\n",
       "    <tr>\n",
       "      <th>bike</th>\n",
       "      <td>0.000</td>\n",
       "      <td>0.059</td>\n",
       "      <td>0.118</td>\n",
       "      <td>0.000</td>\n",
       "    </tr>\n",
       "    <tr>\n",
       "      <th>boat</th>\n",
       "      <td>0.059</td>\n",
       "      <td>0.059</td>\n",
       "      <td>0.000</td>\n",
       "      <td>0.000</td>\n",
       "    </tr>\n",
       "    <tr>\n",
       "      <th>car</th>\n",
       "      <td>0.000</td>\n",
       "      <td>0.118</td>\n",
       "      <td>0.118</td>\n",
       "      <td>0.118</td>\n",
       "    </tr>\n",
       "    <tr>\n",
       "      <th>ferry</th>\n",
       "      <td>0.059</td>\n",
       "      <td>0.000</td>\n",
       "      <td>0.000</td>\n",
       "      <td>0.000</td>\n",
       "    </tr>\n",
       "    <tr>\n",
       "      <th>plane</th>\n",
       "      <td>0.000</td>\n",
       "      <td>0.059</td>\n",
       "      <td>0.059</td>\n",
       "      <td>0.000</td>\n",
       "    </tr>\n",
       "    <tr>\n",
       "      <th>train</th>\n",
       "      <td>0.000</td>\n",
       "      <td>0.059</td>\n",
       "      <td>0.000</td>\n",
       "      <td>0.000</td>\n",
       "    </tr>\n",
       "    <tr>\n",
       "      <th>walk</th>\n",
       "      <td>0.000</td>\n",
       "      <td>0.059</td>\n",
       "      <td>0.000</td>\n",
       "      <td>0.000</td>\n",
       "    </tr>\n",
       "  </tbody>\n",
       "</table>\n",
       "</div>"
      ],
      "text/plain": [
       "members_in_household      2      4      5      6\n",
       "mode_of_transport                               \n",
       "bike                  0.000  0.059  0.118  0.000\n",
       "boat                  0.059  0.059  0.000  0.000\n",
       "car                   0.000  0.118  0.118  0.118\n",
       "ferry                 0.059  0.000  0.000  0.000\n",
       "plane                 0.000  0.059  0.059  0.000\n",
       "train                 0.000  0.059  0.000  0.000\n",
       "walk                  0.000  0.059  0.000  0.000"
      ]
     },
     "execution_count": 69,
     "metadata": {},
     "output_type": "execute_result"
    }
   ],
   "source": [
    "(pivot / 17).round(3)"
   ]
  },
  {
   "cell_type": "code",
   "execution_count": 70,
   "id": "6a2dfc43-37d8-41b0-a2a0-9e92333fcc54",
   "metadata": {},
   "outputs": [
    {
     "data": {
      "text/html": [
       "<div>\n",
       "<style scoped>\n",
       "    .dataframe tbody tr th:only-of-type {\n",
       "        vertical-align: middle;\n",
       "    }\n",
       "\n",
       "    .dataframe tbody tr th {\n",
       "        vertical-align: top;\n",
       "    }\n",
       "\n",
       "    .dataframe thead th {\n",
       "        text-align: right;\n",
       "    }\n",
       "</style>\n",
       "<table border=\"1\" class=\"dataframe\">\n",
       "  <thead>\n",
       "    <tr style=\"text-align: right;\">\n",
       "      <th>members_in_household</th>\n",
       "      <th>2</th>\n",
       "      <th>4</th>\n",
       "      <th>5</th>\n",
       "      <th>6</th>\n",
       "    </tr>\n",
       "    <tr>\n",
       "      <th>mode_of_transport</th>\n",
       "      <th></th>\n",
       "      <th></th>\n",
       "      <th></th>\n",
       "      <th></th>\n",
       "    </tr>\n",
       "  </thead>\n",
       "  <tbody>\n",
       "    <tr>\n",
       "      <th>bike</th>\n",
       "      <td>0.0</td>\n",
       "      <td>0.143</td>\n",
       "      <td>0.4</td>\n",
       "      <td>0.0</td>\n",
       "    </tr>\n",
       "    <tr>\n",
       "      <th>boat</th>\n",
       "      <td>0.5</td>\n",
       "      <td>0.143</td>\n",
       "      <td>0.0</td>\n",
       "      <td>0.0</td>\n",
       "    </tr>\n",
       "    <tr>\n",
       "      <th>car</th>\n",
       "      <td>0.0</td>\n",
       "      <td>0.286</td>\n",
       "      <td>0.4</td>\n",
       "      <td>1.0</td>\n",
       "    </tr>\n",
       "    <tr>\n",
       "      <th>ferry</th>\n",
       "      <td>0.5</td>\n",
       "      <td>0.000</td>\n",
       "      <td>0.0</td>\n",
       "      <td>0.0</td>\n",
       "    </tr>\n",
       "    <tr>\n",
       "      <th>plane</th>\n",
       "      <td>0.0</td>\n",
       "      <td>0.143</td>\n",
       "      <td>0.2</td>\n",
       "      <td>0.0</td>\n",
       "    </tr>\n",
       "    <tr>\n",
       "      <th>train</th>\n",
       "      <td>0.0</td>\n",
       "      <td>0.143</td>\n",
       "      <td>0.0</td>\n",
       "      <td>0.0</td>\n",
       "    </tr>\n",
       "    <tr>\n",
       "      <th>walk</th>\n",
       "      <td>0.0</td>\n",
       "      <td>0.143</td>\n",
       "      <td>0.0</td>\n",
       "      <td>0.0</td>\n",
       "    </tr>\n",
       "  </tbody>\n",
       "</table>\n",
       "</div>"
      ],
      "text/plain": [
       "members_in_household    2      4    5    6\n",
       "mode_of_transport                         \n",
       "bike                  0.0  0.143  0.4  0.0\n",
       "boat                  0.5  0.143  0.0  0.0\n",
       "car                   0.0  0.286  0.4  1.0\n",
       "ferry                 0.5  0.000  0.0  0.0\n",
       "plane                 0.0  0.143  0.2  0.0\n",
       "train                 0.0  0.143  0.0  0.0\n",
       "walk                  0.0  0.143  0.0  0.0"
      ]
     },
     "execution_count": 70,
     "metadata": {},
     "output_type": "execute_result"
    }
   ],
   "source": [
    "(pivot / pivot.sum()).round(3)"
   ]
  },
  {
   "cell_type": "code",
   "execution_count": null,
   "id": "6bf0c691-25be-4bd0-ab83-a85cabdfc7d5",
   "metadata": {},
   "outputs": [],
   "source": []
  }
 ],
 "metadata": {
  "kernelspec": {
   "display_name": "Python 3 (ipykernel)",
   "language": "python",
   "name": "python3"
  },
  "language_info": {
   "codemirror_mode": {
    "name": "ipython",
    "version": 3
   },
   "file_extension": ".py",
   "mimetype": "text/x-python",
   "name": "python",
   "nbconvert_exporter": "python",
   "pygments_lexer": "ipython3",
   "version": "3.12.4"
  }
 },
 "nbformat": 4,
 "nbformat_minor": 5
}
