{
 "cells": [
  {
   "cell_type": "markdown",
   "id": "2dd46872",
   "metadata": {},
   "source": [
    "# Box Plot"
   ]
  },
  {
   "cell_type": "code",
   "execution_count": 7,
   "id": "33d0cca1",
   "metadata": {},
   "outputs": [],
   "source": [
    "import pandas as pd\n",
    "import seaborn as sns"
   ]
  },
  {
   "cell_type": "code",
   "execution_count": 2,
   "id": "70206938",
   "metadata": {},
   "outputs": [],
   "source": [
    "df = pd.read_clipboard()"
   ]
  },
  {
   "cell_type": "code",
   "execution_count": 3,
   "id": "1076cefd",
   "metadata": {},
   "outputs": [
    {
     "data": {
      "text/html": [
       "<div>\n",
       "<style scoped>\n",
       "    .dataframe tbody tr th:only-of-type {\n",
       "        vertical-align: middle;\n",
       "    }\n",
       "\n",
       "    .dataframe tbody tr th {\n",
       "        vertical-align: top;\n",
       "    }\n",
       "\n",
       "    .dataframe thead th {\n",
       "        text-align: right;\n",
       "    }\n",
       "</style>\n",
       "<table border=\"1\" class=\"dataframe\">\n",
       "  <thead>\n",
       "    <tr style=\"text-align: right;\">\n",
       "      <th></th>\n",
       "      <th>Name</th>\n",
       "      <th>area (sq.km)</th>\n",
       "      <th>population</th>\n",
       "      <th>income (USD)</th>\n",
       "      <th>coastline (km)</th>\n",
       "      <th>neighbors</th>\n",
       "      <th>highest point (m)</th>\n",
       "      <th>card group</th>\n",
       "    </tr>\n",
       "  </thead>\n",
       "  <tbody>\n",
       "    <tr>\n",
       "      <th>0</th>\n",
       "      <td>Finland</td>\n",
       "      <td>338,144</td>\n",
       "      <td>5,500,000</td>\n",
       "      <td>$40,840</td>\n",
       "      <td>1250</td>\n",
       "      <td>3</td>\n",
       "      <td>1328</td>\n",
       "      <td>B</td>\n",
       "    </tr>\n",
       "    <tr>\n",
       "      <th>1</th>\n",
       "      <td>Great Britain</td>\n",
       "      <td>242,910</td>\n",
       "      <td>65,600,000</td>\n",
       "      <td>$40,550</td>\n",
       "      <td>12429</td>\n",
       "      <td>2</td>\n",
       "      <td>1343</td>\n",
       "      <td>C</td>\n",
       "    </tr>\n",
       "    <tr>\n",
       "      <th>2</th>\n",
       "      <td>Spain</td>\n",
       "      <td>504,645</td>\n",
       "      <td>43,300,000</td>\n",
       "      <td>$34,490</td>\n",
       "      <td>4964</td>\n",
       "      <td>3</td>\n",
       "      <td>3718</td>\n",
       "      <td>G</td>\n",
       "    </tr>\n",
       "    <tr>\n",
       "      <th>3</th>\n",
       "      <td>Portugal</td>\n",
       "      <td>92,345</td>\n",
       "      <td>10,300,000</td>\n",
       "      <td>$28,590</td>\n",
       "      <td>1793</td>\n",
       "      <td>1</td>\n",
       "      <td>2351</td>\n",
       "      <td>F</td>\n",
       "    </tr>\n",
       "    <tr>\n",
       "      <th>4</th>\n",
       "      <td>Austria</td>\n",
       "      <td>83,879</td>\n",
       "      <td>8,800,000</td>\n",
       "      <td>$47,510</td>\n",
       "      <td>0</td>\n",
       "      <td>8</td>\n",
       "      <td>3798</td>\n",
       "      <td>E</td>\n",
       "    </tr>\n",
       "    <tr>\n",
       "      <th>5</th>\n",
       "      <td>Estonia</td>\n",
       "      <td>45,227</td>\n",
       "      <td>1,300,000</td>\n",
       "      <td>$27,510</td>\n",
       "      <td>3794</td>\n",
       "      <td>2</td>\n",
       "      <td>318</td>\n",
       "      <td>B</td>\n",
       "    </tr>\n",
       "    <tr>\n",
       "      <th>6</th>\n",
       "      <td>Norway</td>\n",
       "      <td>323,802</td>\n",
       "      <td>5,200,000</td>\n",
       "      <td>$64,590</td>\n",
       "      <td>25148</td>\n",
       "      <td>3</td>\n",
       "      <td>2469</td>\n",
       "      <td>H</td>\n",
       "    </tr>\n",
       "    <tr>\n",
       "      <th>7</th>\n",
       "      <td>Bulgaria</td>\n",
       "      <td>110,994</td>\n",
       "      <td>7,100,000</td>\n",
       "      <td>$16,790</td>\n",
       "      <td>354</td>\n",
       "      <td>5</td>\n",
       "      <td>2925</td>\n",
       "      <td>A</td>\n",
       "    </tr>\n",
       "    <tr>\n",
       "      <th>8</th>\n",
       "      <td>Italy</td>\n",
       "      <td>301,336</td>\n",
       "      <td>60,600,000</td>\n",
       "      <td>$35,850</td>\n",
       "      <td>7600</td>\n",
       "      <td>6</td>\n",
       "      <td>4807</td>\n",
       "      <td>C</td>\n",
       "    </tr>\n",
       "    <tr>\n",
       "      <th>9</th>\n",
       "      <td>Luxemburg</td>\n",
       "      <td>2,586</td>\n",
       "      <td>600,000</td>\n",
       "      <td>$70,750</td>\n",
       "      <td>0</td>\n",
       "      <td>3</td>\n",
       "      <td>559</td>\n",
       "      <td>D</td>\n",
       "    </tr>\n",
       "    <tr>\n",
       "      <th>10</th>\n",
       "      <td>Croatia</td>\n",
       "      <td>56,542</td>\n",
       "      <td>4,200,000</td>\n",
       "      <td>$21,730</td>\n",
       "      <td>5835</td>\n",
       "      <td>5</td>\n",
       "      <td>1830</td>\n",
       "      <td>D</td>\n",
       "    </tr>\n",
       "  </tbody>\n",
       "</table>\n",
       "</div>"
      ],
      "text/plain": [
       "              Name area (sq.km)  population income (USD)  coastline (km)  \\\n",
       "0          Finland      338,144   5,500,000      $40,840            1250   \n",
       "1   Great Britain       242,910  65,600,000      $40,550           12429   \n",
       "2            Spain      504,645  43,300,000      $34,490            4964   \n",
       "3         Portugal       92,345  10,300,000      $28,590            1793   \n",
       "4          Austria       83,879   8,800,000      $47,510               0   \n",
       "5          Estonia       45,227   1,300,000      $27,510            3794   \n",
       "6           Norway      323,802   5,200,000      $64,590           25148   \n",
       "7         Bulgaria      110,994   7,100,000      $16,790             354   \n",
       "8            Italy      301,336  60,600,000      $35,850            7600   \n",
       "9        Luxemburg        2,586     600,000      $70,750               0   \n",
       "10         Croatia       56,542   4,200,000      $21,730            5835   \n",
       "\n",
       "    neighbors  highest point (m) card group  \n",
       "0           3               1328          B  \n",
       "1           2               1343          C  \n",
       "2           3               3718          G  \n",
       "3           1               2351          F  \n",
       "4           8               3798          E  \n",
       "5           2                318          B  \n",
       "6           3               2469          H  \n",
       "7           5               2925          A  \n",
       "8           6               4807          C  \n",
       "9           3                559          D  \n",
       "10          5               1830          D  "
      ]
     },
     "execution_count": 3,
     "metadata": {},
     "output_type": "execute_result"
    }
   ],
   "source": [
    "# df is a DataFrame == table\n",
    "df"
   ]
  },
  {
   "cell_type": "code",
   "execution_count": 5,
   "id": "04da13e0",
   "metadata": {},
   "outputs": [
    {
     "data": {
      "text/plain": [
       "count       11.000000\n",
       "mean      5742.454545\n",
       "std       7482.739744\n",
       "min          0.000000\n",
       "25%        802.000000\n",
       "50%       3794.000000\n",
       "75%       6717.500000\n",
       "max      25148.000000\n",
       "Name: coastline (km), dtype: float64"
      ]
     },
     "execution_count": 5,
     "metadata": {},
     "output_type": "execute_result"
    }
   ],
   "source": [
    "# summarize a single column\n",
    "df[\"coastline (km)\"].describe()"
   ]
  },
  {
   "cell_type": "code",
   "execution_count": 6,
   "id": "1df69fde",
   "metadata": {},
   "outputs": [
    {
     "data": {
      "text/plain": [
       "<AxesSubplot: >"
      ]
     },
     "execution_count": 6,
     "metadata": {},
     "output_type": "execute_result"
    },
    {
     "data": {
      "image/png": "[encoded data removed]",
      "text/plain": [
       "<Figure size 640x480 with 1 Axes>"
      ]
     },
     "metadata": {},
     "output_type": "display_data"
    }
   ],
   "source": [
    "# pandas plotting function, ok but not great\n",
    "df[\"coastline (km)\"].plot.box()"
   ]
  },
  {
   "cell_type": "code",
   "execution_count": 9,
   "id": "888d055b",
   "metadata": {},
   "outputs": [
    {
     "data": {
      "text/plain": [
       "<AxesSubplot: ylabel='coastline (km)'>"
      ]
     },
     "execution_count": 9,
     "metadata": {},
     "output_type": "execute_result"
    },
    {
     "data": {
      "image/png": "[encoded data removed]",
      "text/plain": [
       "<Figure size 640x480 with 1 Axes>"
      ]
     },
     "metadata": {},
     "output_type": "display_data"
    }
   ],
   "source": [
    "# seaborn plot: higher quality\n",
    "sns.boxplot(df, y=\"coastline (km)\")"
   ]
  },
  {
   "cell_type": "code",
   "execution_count": 10,
   "id": "d9ee51f4",
   "metadata": {},
   "outputs": [
    {
     "data": {
      "text/plain": [
       "'0.12.2'"
      ]
     },
     "execution_count": 10,
     "metadata": {},
     "output_type": "execute_result"
    }
   ],
   "source": [
    "sns.__version__"
   ]
  },
  {
   "cell_type": "code",
   "execution_count": null,
   "id": "1f75cdd6",
   "metadata": {},
   "outputs": [],
   "source": []
  }
 ],
 "metadata": {
  "kernelspec": {
   "display_name": "Python 3",
   "language": "python",
   "name": "python3"
  },
  "language_info": {
   "codemirror_mode": {
    "name": "ipython",
    "version": 3
   },
   "file_extension": ".py",
   "mimetype": "text/x-python",
   "name": "python",
   "nbconvert_exporter": "python",
   "pygments_lexer": "ipython3",
   "version": "3.9.12"
  }
 },
 "nbformat": 4,
 "nbformat_minor": 5
}
